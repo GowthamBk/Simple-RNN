{
  "nbformat": 4,
  "nbformat_minor": 0,
  "metadata": {
    "colab": {
      "provenance": []
    },
    "kernelspec": {
      "name": "python3",
      "display_name": "Python 3"
    },
    "language_info": {
      "name": "python"
    }
  },
  "cells": [
    {
      "cell_type": "code",
      "execution_count": 1,
      "metadata": {
        "id": "q-VCcDtZMZpC"
      },
      "outputs": [],
      "source": [
        "import numpy as np\n",
        "import tensorflow as tf\n",
        "from tensorflow.keras.datasets import imdb\n",
        "from tensorflow.keras.preprocessing import sequence\n",
        "from tensorflow.keras.models import load_model"
      ]
    },
    {
      "cell_type": "code",
      "source": [
        "# Load IMDB dataset word index\n",
        "word_index=imdb.get_word_index()\n",
        "reverse_word_index = {value: key for key, value in word_index.items()}"
      ],
      "metadata": {
        "id": "lSQev9A2MzVf"
      },
      "execution_count": 4,
      "outputs": []
    },
    {
      "cell_type": "code",
      "source": [
        "# Load pre-trained model with ReLu activation\n",
        "model = load_model('/content/rnn_model_imdb.h5')\n",
        "model.summary()"
      ],
      "metadata": {
        "colab": {
          "base_uri": "https://localhost:8080/",
          "height": 278
        },
        "id": "8gLQbCIOMz7T",
        "outputId": "4c0c5507-b3b1-42b6-c87a-58fb0f3ae69b"
      },
      "execution_count": 6,
      "outputs": [
        {
          "output_type": "stream",
          "name": "stderr",
          "text": [
            "WARNING:absl:Compiled the loaded model, but the compiled metrics have yet to be built. `model.compile_metrics` will be empty until you train or evaluate the model.\n"
          ]
        },
        {
          "output_type": "display_data",
          "data": {
            "text/plain": [
              "\u001b[1mModel: \"sequential\"\u001b[0m\n"
            ],
            "text/html": [
              "<pre style=\"white-space:pre;overflow-x:auto;line-height:normal;font-family:Menlo,'DejaVu Sans Mono',consolas,'Courier New',monospace\"><span style=\"font-weight: bold\">Model: \"sequential\"</span>\n",
              "</pre>\n"
            ]
          },
          "metadata": {}
        },
        {
          "output_type": "display_data",
          "data": {
            "text/plain": [
              "┏━━━━━━━━━━━━━━━━━━━━━━━━━━━━━━━━━┳━━━━━━━━━━━━━━━━━━━━━━━━┳━━━━━━━━━━━━━━━┓\n",
              "┃\u001b[1m \u001b[0m\u001b[1mLayer (type)                   \u001b[0m\u001b[1m \u001b[0m┃\u001b[1m \u001b[0m\u001b[1mOutput Shape          \u001b[0m\u001b[1m \u001b[0m┃\u001b[1m \u001b[0m\u001b[1m      Param #\u001b[0m\u001b[1m \u001b[0m┃\n",
              "┡━━━━━━━━━━━━━━━━━━━━━━━━━━━━━━━━━╇━━━━━━━━━━━━━━━━━━━━━━━━╇━━━━━━━━━━━━━━━┩\n",
              "│ embedding (\u001b[38;5;33mEmbedding\u001b[0m)           │ (\u001b[38;5;45mNone\u001b[0m, \u001b[38;5;34m500\u001b[0m, \u001b[38;5;34m128\u001b[0m)       │     \u001b[38;5;34m1,280,000\u001b[0m │\n",
              "├─────────────────────────────────┼────────────────────────┼───────────────┤\n",
              "│ simple_rnn (\u001b[38;5;33mSimpleRNN\u001b[0m)          │ (\u001b[38;5;45mNone\u001b[0m, \u001b[38;5;34m128\u001b[0m)            │        \u001b[38;5;34m32,896\u001b[0m │\n",
              "├─────────────────────────────────┼────────────────────────┼───────────────┤\n",
              "│ dense (\u001b[38;5;33mDense\u001b[0m)                   │ (\u001b[38;5;45mNone\u001b[0m, \u001b[38;5;34m1\u001b[0m)              │           \u001b[38;5;34m129\u001b[0m │\n",
              "└─────────────────────────────────┴────────────────────────┴───────────────┘\n"
            ],
            "text/html": [
              "<pre style=\"white-space:pre;overflow-x:auto;line-height:normal;font-family:Menlo,'DejaVu Sans Mono',consolas,'Courier New',monospace\">┏━━━━━━━━━━━━━━━━━━━━━━━━━━━━━━━━━┳━━━━━━━━━━━━━━━━━━━━━━━━┳━━━━━━━━━━━━━━━┓\n",
              "┃<span style=\"font-weight: bold\"> Layer (type)                    </span>┃<span style=\"font-weight: bold\"> Output Shape           </span>┃<span style=\"font-weight: bold\">       Param # </span>┃\n",
              "┡━━━━━━━━━━━━━━━━━━━━━━━━━━━━━━━━━╇━━━━━━━━━━━━━━━━━━━━━━━━╇━━━━━━━━━━━━━━━┩\n",
              "│ embedding (<span style=\"color: #0087ff; text-decoration-color: #0087ff\">Embedding</span>)           │ (<span style=\"color: #00d7ff; text-decoration-color: #00d7ff\">None</span>, <span style=\"color: #00af00; text-decoration-color: #00af00\">500</span>, <span style=\"color: #00af00; text-decoration-color: #00af00\">128</span>)       │     <span style=\"color: #00af00; text-decoration-color: #00af00\">1,280,000</span> │\n",
              "├─────────────────────────────────┼────────────────────────┼───────────────┤\n",
              "│ simple_rnn (<span style=\"color: #0087ff; text-decoration-color: #0087ff\">SimpleRNN</span>)          │ (<span style=\"color: #00d7ff; text-decoration-color: #00d7ff\">None</span>, <span style=\"color: #00af00; text-decoration-color: #00af00\">128</span>)            │        <span style=\"color: #00af00; text-decoration-color: #00af00\">32,896</span> │\n",
              "├─────────────────────────────────┼────────────────────────┼───────────────┤\n",
              "│ dense (<span style=\"color: #0087ff; text-decoration-color: #0087ff\">Dense</span>)                   │ (<span style=\"color: #00d7ff; text-decoration-color: #00d7ff\">None</span>, <span style=\"color: #00af00; text-decoration-color: #00af00\">1</span>)              │           <span style=\"color: #00af00; text-decoration-color: #00af00\">129</span> │\n",
              "└─────────────────────────────────┴────────────────────────┴───────────────┘\n",
              "</pre>\n"
            ]
          },
          "metadata": {}
        },
        {
          "output_type": "display_data",
          "data": {
            "text/plain": [
              "\u001b[1m Total params: \u001b[0m\u001b[38;5;34m1,313,027\u001b[0m (5.01 MB)\n"
            ],
            "text/html": [
              "<pre style=\"white-space:pre;overflow-x:auto;line-height:normal;font-family:Menlo,'DejaVu Sans Mono',consolas,'Courier New',monospace\"><span style=\"font-weight: bold\"> Total params: </span><span style=\"color: #00af00; text-decoration-color: #00af00\">1,313,027</span> (5.01 MB)\n",
              "</pre>\n"
            ]
          },
          "metadata": {}
        },
        {
          "output_type": "display_data",
          "data": {
            "text/plain": [
              "\u001b[1m Trainable params: \u001b[0m\u001b[38;5;34m1,313,025\u001b[0m (5.01 MB)\n"
            ],
            "text/html": [
              "<pre style=\"white-space:pre;overflow-x:auto;line-height:normal;font-family:Menlo,'DejaVu Sans Mono',consolas,'Courier New',monospace\"><span style=\"font-weight: bold\"> Trainable params: </span><span style=\"color: #00af00; text-decoration-color: #00af00\">1,313,025</span> (5.01 MB)\n",
              "</pre>\n"
            ]
          },
          "metadata": {}
        },
        {
          "output_type": "display_data",
          "data": {
            "text/plain": [
              "\u001b[1m Non-trainable params: \u001b[0m\u001b[38;5;34m0\u001b[0m (0.00 B)\n"
            ],
            "text/html": [
              "<pre style=\"white-space:pre;overflow-x:auto;line-height:normal;font-family:Menlo,'DejaVu Sans Mono',consolas,'Courier New',monospace\"><span style=\"font-weight: bold\"> Non-trainable params: </span><span style=\"color: #00af00; text-decoration-color: #00af00\">0</span> (0.00 B)\n",
              "</pre>\n"
            ]
          },
          "metadata": {}
        },
        {
          "output_type": "display_data",
          "data": {
            "text/plain": [
              "\u001b[1m Optimizer params: \u001b[0m\u001b[38;5;34m2\u001b[0m (12.00 B)\n"
            ],
            "text/html": [
              "<pre style=\"white-space:pre;overflow-x:auto;line-height:normal;font-family:Menlo,'DejaVu Sans Mono',consolas,'Courier New',monospace\"><span style=\"font-weight: bold\"> Optimizer params: </span><span style=\"color: #00af00; text-decoration-color: #00af00\">2</span> (12.00 B)\n",
              "</pre>\n"
            ]
          },
          "metadata": {}
        }
      ]
    },
    {
      "cell_type": "code",
      "source": [
        "model.get_weights()"
      ],
      "metadata": {
        "colab": {
          "base_uri": "https://localhost:8080/"
        },
        "id": "RLnNq46-Mz97",
        "outputId": "8485d343-c81d-4a95-df1a-459ce17379db"
      },
      "execution_count": 7,
      "outputs": [
        {
          "output_type": "execute_result",
          "data": {
            "text/plain": [
              "[array([[ 0.06743401,  0.80413777,  0.12208991, ...,  0.12945983,\n",
              "          0.4443548 , -0.0835885 ],\n",
              "        [ 0.01759938,  0.1015465 , -0.06373514, ..., -0.0051519 ,\n",
              "         -0.01493854,  0.05433402],\n",
              "        [-0.07289554,  0.01146485, -0.07671191, ..., -0.01780203,\n",
              "          0.02942995,  0.07085188],\n",
              "        ...,\n",
              "        [ 0.00372532,  0.06336026,  0.09242774, ...,  0.06456143,\n",
              "          0.10271271, -0.06167712],\n",
              "        [-0.06379442, -0.11453953, -0.07433359, ..., -0.02963328,\n",
              "         -0.08759048,  0.01198599],\n",
              "        [ 0.10348804,  0.07631164,  0.09162698, ..., -0.0124994 ,\n",
              "          0.04012869, -0.05437068]], dtype=float32),\n",
              " array([[-0.04768788, -0.02104653, -0.04010998, ...,  0.1349272 ,\n",
              "         -0.03015566,  0.06544127],\n",
              "        [ 0.06278049, -0.14708658, -0.12159813, ...,  0.12235922,\n",
              "         -0.12137723, -0.03606939],\n",
              "        [-0.01275105,  0.07466686,  0.05114528, ...,  0.11542907,\n",
              "          0.11782645,  0.11566691],\n",
              "        ...,\n",
              "        [-0.08672778, -0.09431311,  0.06571617, ..., -0.01416558,\n",
              "          0.09157074,  0.0806148 ],\n",
              "        [ 0.08074466,  0.07802077,  0.04751694, ...,  0.03250223,\n",
              "         -0.13816924, -0.02157257],\n",
              "        [-0.06985221, -0.01875454, -0.06952555, ...,  0.01403449,\n",
              "         -0.0670801 , -0.1088171 ]], dtype=float32),\n",
              " array([[-0.03152496,  0.06687886,  0.16104804, ...,  0.07356703,\n",
              "         -0.01629674, -0.05555006],\n",
              "        [ 0.03605657, -0.21232231,  0.04027915, ..., -0.04022681,\n",
              "          0.21444285,  0.07183799],\n",
              "        [ 0.02342831,  0.00917613,  0.05700187, ...,  0.05478844,\n",
              "          0.15023091, -0.17073597],\n",
              "        ...,\n",
              "        [-0.13861753,  0.06660391, -0.00194996, ..., -0.09600746,\n",
              "          0.05937725,  0.1175366 ],\n",
              "        [-0.04083087, -0.00664283, -0.23509853, ...,  0.03567118,\n",
              "          0.07304142,  0.06520762],\n",
              "        [ 0.1780353 ,  0.10725812,  0.0260669 , ..., -0.13131179,\n",
              "         -0.1137725 ,  0.02572507]], dtype=float32),\n",
              " array([-3.50082517e-02, -1.51850749e-03,  1.78323295e-02,  2.52586436e-02,\n",
              "        -1.58084054e-02, -2.02477351e-02,  2.56480966e-02, -2.21359432e-02,\n",
              "        -1.54258842e-02,  7.07770756e-04, -2.69679651e-02,  1.81883276e-02,\n",
              "        -1.19356085e-02,  3.01987510e-02,  2.01565791e-02,  1.13479514e-03,\n",
              "         3.37390304e-02, -9.03801154e-03,  2.76394840e-02,  6.86399825e-03,\n",
              "        -2.23279521e-02,  2.31036860e-02,  3.05131450e-02,  6.65751658e-03,\n",
              "        -3.84000805e-03,  1.97407324e-02,  1.44104799e-03, -1.58215035e-02,\n",
              "         3.03369276e-02, -3.12936716e-02,  1.01877637e-02,  3.24304998e-02,\n",
              "         2.60683279e-02,  5.24650235e-03, -5.81708970e-03,  1.20856613e-02,\n",
              "        -1.86136048e-02, -1.00378580e-02, -1.40938349e-02, -1.46893216e-02,\n",
              "         2.57388838e-02, -9.82336327e-03,  2.03367155e-02,  2.82242969e-02,\n",
              "        -1.21273100e-02, -3.96027081e-02,  1.46609405e-02, -1.62784643e-02,\n",
              "        -2.01573353e-02, -8.52068327e-03, -1.97120719e-02, -2.72311643e-02,\n",
              "         1.90646928e-02, -1.84515361e-02,  1.37704192e-02, -1.74651283e-03,\n",
              "        -3.49393301e-02,  2.45976225e-02, -8.22756998e-03,  2.74893157e-02,\n",
              "        -2.94468421e-02, -1.55430008e-02, -1.44564053e-02,  2.48096026e-02,\n",
              "        -9.60642844e-03, -1.97374262e-02, -1.68217514e-02, -2.12168768e-02,\n",
              "        -6.58416050e-03, -2.25244723e-02, -1.44139873e-02,  3.19552113e-04,\n",
              "         3.36064547e-02, -1.70615930e-02, -1.48591790e-02,  3.86122520e-06,\n",
              "        -1.98419299e-02, -7.32614892e-03, -2.84583569e-02, -3.65408557e-03,\n",
              "        -4.11708727e-02,  1.42862787e-02,  1.54254641e-02,  5.05046640e-03,\n",
              "         2.62787547e-02, -5.17368549e-03, -2.09831242e-02, -1.92363244e-02,\n",
              "        -2.50752326e-02, -2.48149447e-02,  2.19965801e-02, -9.55511071e-03,\n",
              "        -6.00437587e-03,  2.64393203e-02, -3.80241871e-03,  1.66384522e-02,\n",
              "        -9.06896219e-03, -1.37782544e-02,  1.20345606e-02, -4.29881960e-02,\n",
              "         3.62994000e-02,  3.09688859e-02,  2.74692895e-03,  1.42088765e-02,\n",
              "         2.60668043e-02,  2.60897055e-02, -1.82686863e-03, -7.78444810e-03,\n",
              "         9.32958256e-03, -1.40544800e-02,  1.17874797e-02,  2.65590325e-02,\n",
              "        -7.93595798e-03,  3.04919891e-02, -2.35018563e-02,  1.85901690e-02,\n",
              "        -2.27677589e-03, -1.82189848e-02,  5.41891903e-02, -1.06578330e-02,\n",
              "        -3.39568108e-02,  2.71012876e-02, -2.66686678e-02,  2.79371962e-02,\n",
              "         4.36673220e-03, -3.60266529e-02, -1.33989900e-02, -1.31684374e-02],\n",
              "       dtype=float32),\n",
              " array([[ 1.21847644e-01],\n",
              "        [ 2.34318264e-02],\n",
              "        [ 1.68306783e-01],\n",
              "        [ 2.53969312e-01],\n",
              "        [ 1.74733549e-01],\n",
              "        [-1.41572580e-01],\n",
              "        [-1.47836775e-01],\n",
              "        [ 1.46471143e-01],\n",
              "        [ 1.79455504e-01],\n",
              "        [ 2.20890865e-01],\n",
              "        [ 8.90178382e-02],\n",
              "        [ 1.82784989e-01],\n",
              "        [-1.04651637e-01],\n",
              "        [-1.59519076e-01],\n",
              "        [-2.18271211e-01],\n",
              "        [-6.95802391e-01],\n",
              "        [ 3.09608523e-02],\n",
              "        [-1.39741689e-01],\n",
              "        [-1.02274492e-01],\n",
              "        [-1.49981305e-01],\n",
              "        [ 1.16112374e-01],\n",
              "        [-2.85248663e-02],\n",
              "        [-2.10423529e-01],\n",
              "        [-1.36542127e-01],\n",
              "        [-1.94006354e-01],\n",
              "        [ 9.72393379e-02],\n",
              "        [ 6.35760069e-01],\n",
              "        [ 1.10842682e-01],\n",
              "        [ 7.60055929e-02],\n",
              "        [ 1.09205589e-01],\n",
              "        [-2.44885832e-02],\n",
              "        [ 6.14724010e-02],\n",
              "        [-1.68873399e-01],\n",
              "        [-4.48655277e-01],\n",
              "        [ 2.04109922e-01],\n",
              "        [ 1.89522773e-01],\n",
              "        [ 1.37653634e-01],\n",
              "        [ 1.92659691e-01],\n",
              "        [ 1.87669322e-01],\n",
              "        [-7.69287050e-02],\n",
              "        [-1.18823744e-01],\n",
              "        [-1.16167568e-01],\n",
              "        [ 2.80319422e-01],\n",
              "        [ 1.72417328e-01],\n",
              "        [-2.34536961e-01],\n",
              "        [-1.93465203e-01],\n",
              "        [ 4.61901873e-02],\n",
              "        [-4.29552905e-02],\n",
              "        [ 3.83562624e-01],\n",
              "        [-5.44801131e-02],\n",
              "        [ 2.06492394e-01],\n",
              "        [-1.82992756e-01],\n",
              "        [ 1.45138636e-01],\n",
              "        [ 1.92320243e-01],\n",
              "        [-4.56643337e-03],\n",
              "        [ 7.99262226e-02],\n",
              "        [-1.24827363e-01],\n",
              "        [-5.24927154e-02],\n",
              "        [-7.46440813e-02],\n",
              "        [ 8.54091048e-01],\n",
              "        [-8.58030617e-02],\n",
              "        [-7.23541602e-02],\n",
              "        [ 1.20428026e-01],\n",
              "        [-3.06283478e-02],\n",
              "        [ 1.46058947e-01],\n",
              "        [ 1.95516393e-01],\n",
              "        [-5.80976784e-01],\n",
              "        [ 8.72210860e-02],\n",
              "        [ 5.74093536e-02],\n",
              "        [ 1.65486515e-01],\n",
              "        [-5.04300883e-03],\n",
              "        [ 1.56910792e-01],\n",
              "        [ 1.21578917e-01],\n",
              "        [ 1.52792513e-01],\n",
              "        [ 2.18295082e-01],\n",
              "        [-2.67913938e-01],\n",
              "        [ 1.98991507e-01],\n",
              "        [-1.25625536e-01],\n",
              "        [-2.79551689e-02],\n",
              "        [-4.12079841e-02],\n",
              "        [-6.28949627e-02],\n",
              "        [ 6.46321326e-02],\n",
              "        [ 5.34792989e-02],\n",
              "        [ 1.93674430e-01],\n",
              "        [-1.17618412e-01],\n",
              "        [ 1.39262483e-01],\n",
              "        [ 1.65888257e-02],\n",
              "        [-8.56211305e-01],\n",
              "        [ 1.15943275e-01],\n",
              "        [-1.94671322e-02],\n",
              "        [ 2.04863429e-01],\n",
              "        [-8.80384818e-02],\n",
              "        [ 2.17056602e-01],\n",
              "        [-3.13047087e-04],\n",
              "        [ 5.33841610e-01],\n",
              "        [-1.47454083e-01],\n",
              "        [-7.69128501e-02],\n",
              "        [ 3.14806700e-02],\n",
              "        [ 2.16137961e-01],\n",
              "        [ 4.28597443e-02],\n",
              "        [ 8.65575019e-03],\n",
              "        [-1.67972788e-01],\n",
              "        [ 1.95840195e-01],\n",
              "        [ 2.62120187e-01],\n",
              "        [ 2.03422811e-02],\n",
              "        [ 1.71926975e-01],\n",
              "        [ 7.10653588e-02],\n",
              "        [-3.61547829e-03],\n",
              "        [ 5.97949373e-03],\n",
              "        [-1.54573888e-01],\n",
              "        [ 5.60976639e-02],\n",
              "        [-1.73421800e-01],\n",
              "        [-1.32300869e-01],\n",
              "        [ 1.57181725e-01],\n",
              "        [ 1.58505201e-01],\n",
              "        [-3.51681747e-02],\n",
              "        [ 1.07810915e-01],\n",
              "        [ 8.67924094e-02],\n",
              "        [-3.10919080e-02],\n",
              "        [ 8.32281485e-02],\n",
              "        [ 8.13363194e-02],\n",
              "        [ 8.45858455e-02],\n",
              "        [ 6.08125096e-03],\n",
              "        [ 3.44924591e-02],\n",
              "        [-1.16291903e-01],\n",
              "        [-6.33956045e-02],\n",
              "        [-1.48721382e-01],\n",
              "        [ 1.35452256e-01]], dtype=float32),\n",
              " array([0.18983437], dtype=float32)]"
            ]
          },
          "metadata": {},
          "execution_count": 7
        }
      ]
    },
    {
      "cell_type": "code",
      "source": [
        "# Step 2: Helper functions\n",
        "# Function to decode reviews\n",
        "def decode_review(encode_review):\n",
        "    return ' '.join([reverse_word_index.get(i - 3, '?') for i in encode_review])\n",
        "\n",
        "# Function to preprocess user input\n",
        "def preprocess_text(text):\n",
        "    words = text.lower().split()\n",
        "    encoded_review = [word_index.get(word, 2) + 3 for word in words]\n",
        "    padded_review = sequence.pad_sequences([encoded_review], maxlen=500)\n",
        "    return padded_review"
      ],
      "metadata": {
        "id": "D0lUAao2M0Aq"
      },
      "execution_count": 9,
      "outputs": []
    },
    {
      "cell_type": "code",
      "source": [
        "## Prediction function\n",
        "def predict_sentiment(review):\n",
        "    preprocessed_input = preprocess_text(review)\n",
        "    prediction = model.predict(preprocessed_input)\n",
        "    sentiment = \"Positive\" if prediction[0][0] > 0.5 else \"Negative\"\n",
        "    return sentiment, prediction[0][0]"
      ],
      "metadata": {
        "id": "ZWKXlusHM0Cn"
      },
      "execution_count": 10,
      "outputs": []
    },
    {
      "cell_type": "code",
      "source": [
        "# Step 4: User Input and Prediction\n",
        "# Example review for prediction\n",
        "\n",
        "example_review = \"This movie was fantastic! The acting was great and the plot was thrilling.\"\n",
        "\n",
        "sentiment,score = predict_sentiment(example_review)\n",
        "print(f\"Review: {example_review}\")\n",
        "print(f\"Sentiment: {sentiment}\")\n",
        "print(f\"Prediction Score: {score}\")"
      ],
      "metadata": {
        "colab": {
          "base_uri": "https://localhost:8080/"
        },
        "id": "UcXPyZG1O6JX",
        "outputId": "e76431f3-03e6-4c69-8396-b9043eb7a868"
      },
      "execution_count": 11,
      "outputs": [
        {
          "output_type": "stream",
          "name": "stdout",
          "text": [
            "\u001b[1m1/1\u001b[0m \u001b[32m━━━━━━━━━━━━━━━━━━━━\u001b[0m\u001b[37m\u001b[0m \u001b[1m0s\u001b[0m 268ms/step\n",
            "Review: This movie was fantastic! The acting was great and the plot was thrilling.\n",
            "Sentiment: Positive\n",
            "Prediction Score: 0.9326374530792236\n"
          ]
        }
      ]
    },
    {
      "cell_type": "code",
      "source": [
        "example_review = \"This movie is not that good.\"\n",
        "\n",
        "sentiment,score = predict_sentiment(example_review)\n",
        "print(f\"Review: {example_review}\")\n",
        "print(f\"Sentiment: {sentiment}\")\n",
        "print(f\"Prediction Score: {score}\")"
      ],
      "metadata": {
        "colab": {
          "base_uri": "https://localhost:8080/"
        },
        "id": "878mMbj8O6MX",
        "outputId": "e118bcc5-550c-4561-dab1-44e57d12f3d8"
      },
      "execution_count": 12,
      "outputs": [
        {
          "output_type": "stream",
          "name": "stdout",
          "text": [
            "\u001b[1m1/1\u001b[0m \u001b[32m━━━━━━━━━━━━━━━━━━━━\u001b[0m\u001b[37m\u001b[0m \u001b[1m0s\u001b[0m 59ms/step\n",
            "Review: This movie is not that good.\n",
            "Sentiment: Positive\n",
            "Prediction Score: 0.989610493183136\n"
          ]
        }
      ]
    },
    {
      "cell_type": "code",
      "source": [],
      "metadata": {
        "id": "K8-Rfqm8O6PR"
      },
      "execution_count": 8,
      "outputs": []
    },
    {
      "cell_type": "code",
      "source": [],
      "metadata": {
        "id": "k8NAZ6xXO6Rx"
      },
      "execution_count": null,
      "outputs": []
    }
  ]
}